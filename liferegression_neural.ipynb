{
 "cells": [
  {
   "cell_type": "code",
   "execution_count": 1,
   "metadata": {},
   "outputs": [],
   "source": [
    "import pandas as pd\n",
    "import numpy as np\n",
    "import torch\n",
    "from sklearn.preprocessing import StandardScaler\n",
    "from torch.nn.functional import mse_loss\n",
    "\n"
   ]
  },
  {
   "cell_type": "code",
   "execution_count": 3,
   "metadata": {},
   "outputs": [],
   "source": [
    "dataset = pd.read_csv(\"C:/Users/hp/Desktop/pandas/lifedata.csv\")\n",
    "dataset = dataset.drop([\"Country\",\"Year\"], axis=1).dropna()\n",
    "\n",
    "dataset = dataset.dropna(axis=0)\n",
    "dataset[\"Population\"] = dataset[\"Population\"]/10000000\n",
    "dataset[\"GDP\"] = dataset[\"GDP\"]/10000\n",
    "label = dataset[\"Life\"]\n",
    "feature = dataset.drop(\"Life\",axis=1)\n",
    "feature = pd.get_dummies(feature)"
   ]
  },
  {
   "cell_type": "code",
   "execution_count": 4,
   "metadata": {},
   "outputs": [
    {
     "name": "stdout",
     "output_type": "stream",
     "text": [
      "torch.Size([1649, 20]) torch.Size([1649, 1])\n"
     ]
    }
   ],
   "source": [
    "features = np.array(feature)\n",
    "labels = np.array(label).reshape(-1,1)\n",
    "features = StandardScaler().fit_transform(features)\n",
    "features = torch.tensor(features, dtype = torch.float32)\n",
    "labels = torch.tensor(labels,dtype = torch.float32)\n",
    "print(features.shape, labels.shape)"
   ]
  },
  {
   "cell_type": "code",
   "execution_count": 5,
   "metadata": {},
   "outputs": [
    {
     "name": "stdout",
     "output_type": "stream",
     "text": [
      "torch.Size([1649, 1])\n",
      "tensor([[-0.0449],\n",
      "        [-0.0493],\n",
      "        [-0.0510],\n",
      "        ...,\n",
      "        [-0.0539],\n",
      "        [-0.0856],\n",
      "        [-0.0774]], grad_fn=<AddmmBackward0>)\n"
     ]
    }
   ],
   "source": [
    "model = torch.nn.Sequential(\n",
    "    torch.nn.Linear(20,10),\n",
    "    torch.nn.LeakyReLU(), # activation functions\n",
    "    torch.nn.Linear(10,6),\n",
    "    torch.nn.ReLU(),\n",
    "    torch.nn.Linear(6,9),\n",
    "    torch.nn.ReLU(),\n",
    "    torch.nn.Linear(9,1)\n",
    ")\n",
    "\n",
    "preds = model(features)\n",
    "print(preds.shape)\n",
    "\n",
    "print(preds)"
   ]
  },
  {
   "cell_type": "code",
   "execution_count": 6,
   "metadata": {},
   "outputs": [
    {
     "data": {
      "text/plain": [
       "tensor(4888.0234, grad_fn=<MseLossBackward0>)"
      ]
     },
     "execution_count": 6,
     "metadata": {},
     "output_type": "execute_result"
    }
   ],
   "source": [
    "loss = mse_loss(preds, labels)\n",
    "loss"
   ]
  },
  {
   "cell_type": "code",
   "execution_count": 7,
   "metadata": {},
   "outputs": [],
   "source": [
    "optimizer = torch.optim.SGD(model.parameters(), lr=0.001)"
   ]
  },
  {
   "cell_type": "code",
   "execution_count": 8,
   "metadata": {},
   "outputs": [
    {
     "name": "stdout",
     "output_type": "stream",
     "text": [
      "tensor(10.8337, grad_fn=<MseLossBackward0>)\n",
      "tensor(9.2509, grad_fn=<MseLossBackward0>)\n",
      "tensor(8.5124, grad_fn=<MseLossBackward0>)\n",
      "tensor(7.8782, grad_fn=<MseLossBackward0>)\n",
      "tensor(7.2531, grad_fn=<MseLossBackward0>)\n",
      "tensor(6.8827, grad_fn=<MseLossBackward0>)\n",
      "tensor(6.7017, grad_fn=<MseLossBackward0>)\n",
      "tensor(6.5045, grad_fn=<MseLossBackward0>)\n",
      "tensor(6.3001, grad_fn=<MseLossBackward0>)\n",
      "tensor(6.1716, grad_fn=<MseLossBackward0>)\n"
     ]
    }
   ],
   "source": [
    "epochs = 10000\n",
    "for epoch in range(epochs):\n",
    "    preds = model(features)\n",
    "    loss = mse_loss(preds, labels)\n",
    "    \n",
    "    if (epoch+1)%(epochs//10) == 0:\n",
    "        print(loss)\n",
    "\n",
    "    loss.backward()\n",
    "    \n",
    "    optimizer.step()\n",
    "    optimizer.zero_grad()"
   ]
  },
  {
   "cell_type": "code",
   "execution_count": 9,
   "metadata": {},
   "outputs": [
    {
     "name": "stdout",
     "output_type": "stream",
     "text": [
      "tensor([74.5921], grad_fn=<AddBackward0>) tensor([73.8000])\n"
     ]
    }
   ],
   "source": [
    "x = 1399\n",
    "preds = model(features[x])\n",
    "print(preds,labels[x])"
   ]
  }
 ],
 "metadata": {
  "kernelspec": {
   "display_name": "Python 3.8.8 ('base')",
   "language": "python",
   "name": "python3"
  },
  "language_info": {
   "codemirror_mode": {
    "name": "ipython",
    "version": 3
   },
   "file_extension": ".py",
   "mimetype": "text/x-python",
   "name": "python",
   "nbconvert_exporter": "python",
   "pygments_lexer": "ipython3",
   "version": "3.8.8"
  },
  "orig_nbformat": 4,
  "vscode": {
   "interpreter": {
    "hash": "6dcc23356357f8276d44a785f9d0a2aa02edb775f35b369ed56d20e41d916bba"
   }
  }
 },
 "nbformat": 4,
 "nbformat_minor": 2
}

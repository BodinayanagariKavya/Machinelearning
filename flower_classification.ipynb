{
 "cells": [
  {
   "cell_type": "markdown",
   "metadata": {},
   "source": [
    "FLOWER CLASSIFICATION"
   ]
  },
  {
   "cell_type": "code",
   "execution_count": 1,
   "metadata": {},
   "outputs": [],
   "source": [
    "import torch\n",
    "import pandas as pd\n",
    "import numpy as np\n",
    "from sklearn.preprocessing import StandardScaler as ss\n",
    "from sklearn.utils import shuffle"
   ]
  },
  {
   "cell_type": "markdown",
   "metadata": {},
   "source": [
    "Assigning Unique Labels"
   ]
  },
  {
   "cell_type": "code",
   "execution_count": 4,
   "metadata": {},
   "outputs": [
    {
     "name": "stdout",
     "output_type": "stream",
     "text": [
      "['Iris-setosa' 'Iris-versicolor' 'Iris-virginica']\n"
     ]
    }
   ],
   "source": [
    "data = pd.read_csv(\"C:/Users/hp/Desktop/pandas/iris.csv\")\n",
    "data = data.drop([\"Id\"], axis=1)\n",
    "\n",
    "un_labels = data[\"Species\"].unique()\n",
    "# for i in data[\"Species\"].unique():\n",
    "#     print(sum(data[\"Species\"]==i))\n",
    "\n",
    "data = shuffle(data)\n",
    "labels = data.pop(\"Species\")\n",
    "labels = np.array(labels)\n",
    "\n",
    "data = ss().fit_transform(data)\n",
    "print(un_labels)"
   ]
  },
  {
   "cell_type": "code",
   "execution_count": 11,
   "metadata": {},
   "outputs": [
    {
     "data": {
      "text/plain": [
       "array([[0., 1., 0.],\n",
       "       [1., 0., 0.],\n",
       "       [1., 0., 0.],\n",
       "       [1., 0., 0.],\n",
       "       [0., 1., 0.],\n",
       "       [0., 0., 1.],\n",
       "       [0., 1., 0.],\n",
       "       [0., 0., 1.],\n",
       "       [0., 0., 1.],\n",
       "       [0., 1., 0.]])"
      ]
     },
     "execution_count": 11,
     "metadata": {},
     "output_type": "execute_result"
    }
   ],
   "source": [
    "ohe_labels = np.zeros((len(labels), len(un_labels)))\n",
    "\n",
    "for i in range(len(un_labels)):\n",
    "    x = np.where(labels == un_labels[i])\n",
    "    ohe_labels[x,i] = 1\n",
    "\n",
    "ohe_labels[:10]"
   ]
  },
  {
   "cell_type": "code",
   "execution_count": 12,
   "metadata": {},
   "outputs": [],
   "source": [
    "features = torch.tensor(np.array(data), dtype=torch.float32)\n",
    "labels = torch.tensor(ohe_labels , dtype=torch.float32)"
   ]
  },
  {
   "cell_type": "code",
   "execution_count": 13,
   "metadata": {},
   "outputs": [
    {
     "name": "stdout",
     "output_type": "stream",
     "text": [
      "tensor([[0.3481, 0.3673, 0.2846],\n",
      "        [0.3367, 0.2792, 0.3841],\n",
      "        [0.3272, 0.2342, 0.4387],\n",
      "        [0.3294, 0.2423, 0.4284],\n",
      "        [0.3458, 0.3606, 0.2935]], grad_fn=<SliceBackward0>)\n"
     ]
    }
   ],
   "source": [
    "model = torch.nn.Sequential(\n",
    "    torch.nn.Linear(4,4),\n",
    "    torch.nn.ReLU(),\n",
    "    torch.nn.Linear(4,3),\n",
    "    torch.nn.Softmax(dim=-1)\n",
    ")\n",
    "\n",
    "preds = model(features)\n",
    "print(preds[:5])"
   ]
  },
  {
   "cell_type": "markdown",
   "metadata": {},
   "source": [
    "Predicting the Loss"
   ]
  },
  {
   "cell_type": "code",
   "execution_count": 14,
   "metadata": {},
   "outputs": [
    {
     "name": "stdout",
     "output_type": "stream",
     "text": [
      "tensor(0.6970, grad_fn=<BinaryCrossEntropyBackward0>)\n"
     ]
    }
   ],
   "source": [
    "loss_fn = torch.nn.BCELoss()\n",
    "\n",
    "loss = loss_fn(preds, labels)\n",
    "print(loss)"
   ]
  },
  {
   "cell_type": "code",
   "execution_count": 15,
   "metadata": {},
   "outputs": [
    {
     "name": "stdout",
     "output_type": "stream",
     "text": [
      "Loss : 0.3071741759777069\n",
      "Accuracy : 73.3%\n",
      "Loss : 0.1987932175397873\n",
      "Accuracy : 90.7%\n",
      "Loss : 0.13984891772270203\n",
      "Accuracy : 94.7%\n",
      "Loss : 0.10282380133867264\n",
      "Accuracy : 96.0%\n",
      "Loss : 0.07887386530637741\n",
      "Accuracy : 97.3%\n",
      "Loss : 0.06418417394161224\n",
      "Accuracy : 97.3%\n",
      "Loss : 0.055028609931468964\n",
      "Accuracy : 97.3%\n",
      "Loss : 0.0490461066365242\n",
      "Accuracy : 97.3%\n",
      "Loss : 0.04490124061703682\n",
      "Accuracy : 97.3%\n",
      "Loss : 0.04190182313323021\n",
      "Accuracy : 98.0%\n"
     ]
    }
   ],
   "source": [
    "from torch import tensor\n",
    "\n",
    "\n",
    "opt = torch.optim.SGD(model.parameters(), lr=0.01)\n",
    "epochs = 10000\n",
    "\n",
    "for epoch in range(epochs):\n",
    "    preds = model(features)\n",
    "    loss = loss_fn(preds, labels)\n",
    "\n",
    "    loss.backward()\n",
    "\n",
    "    opt.step()\n",
    "    opt.zero_grad()\n",
    "\n",
    "    with torch.no_grad():\n",
    "        if (epoch+1)%(epochs//10) == 0:\n",
    "            level = 0\n",
    "            for i in range(len(preds)):\n",
    "                preds_index = torch.where(preds[i] == preds[i].max())\n",
    "                if (ohe_labels[i][preds_index]) ==1:\n",
    "                    level += 1\n",
    "\n",
    "            print(f\"Loss : {loss}\")\n",
    "            print(f\"Accuracy : {round(level * 100/ len(preds), 1)}%\")"
   ]
  }
 ],
 "metadata": {
  "kernelspec": {
   "display_name": "Python 3.8.8 ('base')",
   "language": "python",
   "name": "python3"
  },
  "language_info": {
   "codemirror_mode": {
    "name": "ipython",
    "version": 3
   },
   "file_extension": ".py",
   "mimetype": "text/x-python",
   "name": "python",
   "nbconvert_exporter": "python",
   "pygments_lexer": "ipython3",
   "version": "3.8.8"
  },
  "orig_nbformat": 4,
  "vscode": {
   "interpreter": {
    "hash": "6dcc23356357f8276d44a785f9d0a2aa02edb775f35b369ed56d20e41d916bba"
   }
  }
 },
 "nbformat": 4,
 "nbformat_minor": 2
}

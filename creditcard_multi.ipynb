{
 "cells": [
  {
   "cell_type": "markdown",
   "metadata": {},
   "source": [
    "CREDIT CARD MULTI-CLASSIFICATION"
   ]
  },
  {
   "cell_type": "code",
   "execution_count": 1,
   "metadata": {},
   "outputs": [],
   "source": [
    "import numpy as np\n",
    "import pandas as pd\n",
    "from sklearn.preprocessing import StandardScaler as ss\n",
    "from sklearn.utils import shuffle\n",
    "import torch"
   ]
  },
  {
   "cell_type": "code",
   "execution_count": 7,
   "metadata": {},
   "outputs": [
    {
     "name": "stdout",
     "output_type": "stream",
     "text": [
      "9015\n"
     ]
    }
   ],
   "source": [
    "# reading the data\n",
    "data = pd.read_csv(\"C:/Users/hp/Desktop/pandas/credit_card_churn.csv\").dropna()\n",
    "# next we drop a class called Unknown from the intended label column\n",
    "data = data[data[\"Income_Category\"] != \"Unknown\"]\n",
    "\n",
    "# then we shuffle the data using the shuffle function\n",
    "data = shuffle(data)\n",
    "\n",
    "print(len(data))\n",
    "# as the length is 9015 we will just even it out at 9K"
   ]
  },
  {
   "cell_type": "markdown",
   "metadata": {},
   "source": [
    "Assigning features and labels"
   ]
  },
  {
   "cell_type": "code",
   "execution_count": 8,
   "metadata": {},
   "outputs": [
    {
     "name": "stdout",
     "output_type": "stream",
     "text": [
      "3561 Less than $40K\n",
      "1535 $80K - $120K\n",
      "1790 $40K - $60K\n",
      "1402 $60K - $80K\n",
      "727 $120K +\n"
     ]
    }
   ],
   "source": [
    "# next we will drop the features not relevant to the output, and the label itself\n",
    "features = data.drop([\"CLIENTNUM\",\"Attrition_Flag\",\"Income_Category\"],axis=1)\n",
    "# converting the categorail fields into 1 or 0's \n",
    "features = pd.get_dummies(features)\n",
    "\n",
    "# finally popping out the label\n",
    "labels = data[\"Income_Category\"]\n",
    "# storing the unique values as the classes\n",
    "classes = labels.unique()\n",
    "\n",
    "# printing the distribution of the classes,\n",
    "for i in classes:\n",
    "    print(len(labels[labels == i]), i)"
   ]
  },
  {
   "cell_type": "code",
   "execution_count": 9,
   "metadata": {},
   "outputs": [
    {
     "name": "stdout",
     "output_type": "stream",
     "text": [
      "torch.Size([8500, 33]) torch.Size([8500, 5])\n"
     ]
    }
   ],
   "source": [
    "# even thought the classes are not uniformally distributted but they aren't unreasonalble either\n",
    "# so we will go on to get dummies for it to one hot encode it\n",
    "labels = pd.get_dummies(labels)\n",
    "\n",
    "# converting the dataframes into numpy arrays\n",
    "features = np.array(features)\n",
    "labels = np.array(labels)\n",
    "\n",
    "# now we will normalize the features so the training process goes faster\n",
    "features = ss().fit_transform(features)\n",
    "\n",
    "# converting the arrays into tensors so we can perform ml operations on them\n",
    "features = torch.tensor(features, dtype=torch.float32)\n",
    "labels = torch.tensor(labels, dtype=torch.float32)\n",
    "\n",
    "train_features = features[:8500]\n",
    "train_labels = labels[:8500]\n",
    "\n",
    "test_features = features[8500:]\n",
    "test_labels = labels[8500:]\n",
    "\n",
    "print(train_features.shape, train_labels.shape)"
   ]
  },
  {
   "cell_type": "markdown",
   "metadata": {},
   "source": [
    "Softmax to convert the value predictions into probability distributions"
   ]
  },
  {
   "cell_type": "code",
   "execution_count": 11,
   "metadata": {},
   "outputs": [],
   "source": [
    "# creating a reasonally layered model with forst input size as 33\n",
    "model = torch.nn.Sequential(\n",
    "    torch.nn.Linear(33,60),\n",
    "    torch.nn.LeakyReLU(),\n",
    "    torch.nn.Linear(60,30),\n",
    "    torch.nn.LeakyReLU(),\n",
    "    torch.nn.Linear(30,15),\n",
    "    torch.nn.ReLU(),\n",
    "    torch.nn.Linear(15,5), # and ending output value as 5\n",
    "    torch.nn.Softmax(dim=-1) # followed by a softmax \n",
    "    # to convert the value predictions into probablity distributions\n",
    ")"
   ]
  },
  {
   "cell_type": "code",
   "execution_count": 12,
   "metadata": {},
   "outputs": [],
   "source": [
    "# the loss we will use is Binary cross entropy\n",
    "loss_fn = torch.nn.BCELoss()\n",
    "# the optimizer we will use is Adam as it has a variable learning rate \n",
    "# due to momentum so the training will be faster \n",
    "opt = torch.optim.Adam(model.parameters(), lr=0.001)"
   ]
  },
  {
   "cell_type": "code",
   "execution_count": 13,
   "metadata": {},
   "outputs": [
    {
     "name": "stdout",
     "output_type": "stream",
     "text": [
      "Epoch 1000, Accuracy : 53.79%\n",
      "Epoch 2000, Accuracy : 52.23%\n",
      "Epoch 3000, Accuracy : 53.01%\n",
      "Epoch 4000, Accuracy : 53.98%\n"
     ]
    },
    {
     "ename": "KeyboardInterrupt",
     "evalue": "",
     "output_type": "error",
     "traceback": [
      "\u001b[1;31m---------------------------------------------------------------------------\u001b[0m",
      "\u001b[1;31mKeyboardInterrupt\u001b[0m                         Traceback (most recent call last)",
      "\u001b[1;32m<ipython-input-13-e54f1de97a5c>\u001b[0m in \u001b[0;36m<module>\u001b[1;34m\u001b[0m\n\u001b[0;32m      7\u001b[0m \u001b[1;33m\u001b[0m\u001b[0m\n\u001b[0;32m      8\u001b[0m     \u001b[1;31m# then we will find gradients and optimize the model to reduce loss\u001b[0m\u001b[1;33m\u001b[0m\u001b[1;33m\u001b[0m\u001b[1;33m\u001b[0m\u001b[0m\n\u001b[1;32m----> 9\u001b[1;33m     \u001b[0mloss\u001b[0m\u001b[1;33m.\u001b[0m\u001b[0mbackward\u001b[0m\u001b[1;33m(\u001b[0m\u001b[1;33m)\u001b[0m\u001b[1;33m\u001b[0m\u001b[1;33m\u001b[0m\u001b[0m\n\u001b[0m\u001b[0;32m     10\u001b[0m     \u001b[0mopt\u001b[0m\u001b[1;33m.\u001b[0m\u001b[0mstep\u001b[0m\u001b[1;33m(\u001b[0m\u001b[1;33m)\u001b[0m\u001b[1;33m\u001b[0m\u001b[1;33m\u001b[0m\u001b[0m\n\u001b[0;32m     11\u001b[0m     \u001b[0mopt\u001b[0m\u001b[1;33m.\u001b[0m\u001b[0mzero_grad\u001b[0m\u001b[1;33m(\u001b[0m\u001b[1;33m)\u001b[0m\u001b[1;33m\u001b[0m\u001b[1;33m\u001b[0m\u001b[0m\n",
      "\u001b[1;32mc:\\Users\\hp\\Documents\\New folder\\lib\\site-packages\\torch\\_tensor.py\u001b[0m in \u001b[0;36mbackward\u001b[1;34m(self, gradient, retain_graph, create_graph, inputs)\u001b[0m\n\u001b[0;32m    394\u001b[0m                 \u001b[0mcreate_graph\u001b[0m\u001b[1;33m=\u001b[0m\u001b[0mcreate_graph\u001b[0m\u001b[1;33m,\u001b[0m\u001b[1;33m\u001b[0m\u001b[1;33m\u001b[0m\u001b[0m\n\u001b[0;32m    395\u001b[0m                 inputs=inputs)\n\u001b[1;32m--> 396\u001b[1;33m         \u001b[0mtorch\u001b[0m\u001b[1;33m.\u001b[0m\u001b[0mautograd\u001b[0m\u001b[1;33m.\u001b[0m\u001b[0mbackward\u001b[0m\u001b[1;33m(\u001b[0m\u001b[0mself\u001b[0m\u001b[1;33m,\u001b[0m \u001b[0mgradient\u001b[0m\u001b[1;33m,\u001b[0m \u001b[0mretain_graph\u001b[0m\u001b[1;33m,\u001b[0m \u001b[0mcreate_graph\u001b[0m\u001b[1;33m,\u001b[0m \u001b[0minputs\u001b[0m\u001b[1;33m=\u001b[0m\u001b[0minputs\u001b[0m\u001b[1;33m)\u001b[0m\u001b[1;33m\u001b[0m\u001b[1;33m\u001b[0m\u001b[0m\n\u001b[0m\u001b[0;32m    397\u001b[0m \u001b[1;33m\u001b[0m\u001b[0m\n\u001b[0;32m    398\u001b[0m     \u001b[1;32mdef\u001b[0m \u001b[0mregister_hook\u001b[0m\u001b[1;33m(\u001b[0m\u001b[0mself\u001b[0m\u001b[1;33m,\u001b[0m \u001b[0mhook\u001b[0m\u001b[1;33m)\u001b[0m\u001b[1;33m:\u001b[0m\u001b[1;33m\u001b[0m\u001b[1;33m\u001b[0m\u001b[0m\n",
      "\u001b[1;32mc:\\Users\\hp\\Documents\\New folder\\lib\\site-packages\\torch\\autograd\\__init__.py\u001b[0m in \u001b[0;36mbackward\u001b[1;34m(tensors, grad_tensors, retain_graph, create_graph, grad_variables, inputs)\u001b[0m\n\u001b[0;32m    171\u001b[0m     \u001b[1;31m# some Python versions print out the first line of a multi-line function\u001b[0m\u001b[1;33m\u001b[0m\u001b[1;33m\u001b[0m\u001b[1;33m\u001b[0m\u001b[0m\n\u001b[0;32m    172\u001b[0m     \u001b[1;31m# calls in the traceback and some print out the last line\u001b[0m\u001b[1;33m\u001b[0m\u001b[1;33m\u001b[0m\u001b[1;33m\u001b[0m\u001b[0m\n\u001b[1;32m--> 173\u001b[1;33m     Variable._execution_engine.run_backward(  # Calls into the C++ engine to run the backward pass\n\u001b[0m\u001b[0;32m    174\u001b[0m         \u001b[0mtensors\u001b[0m\u001b[1;33m,\u001b[0m \u001b[0mgrad_tensors_\u001b[0m\u001b[1;33m,\u001b[0m \u001b[0mretain_graph\u001b[0m\u001b[1;33m,\u001b[0m \u001b[0mcreate_graph\u001b[0m\u001b[1;33m,\u001b[0m \u001b[0minputs\u001b[0m\u001b[1;33m,\u001b[0m\u001b[1;33m\u001b[0m\u001b[1;33m\u001b[0m\u001b[0m\n\u001b[0;32m    175\u001b[0m         allow_unreachable=True, accumulate_grad=True)  # Calls into the C++ engine to run the backward pass\n",
      "\u001b[1;31mKeyboardInterrupt\u001b[0m: "
     ]
    }
   ],
   "source": [
    "epochs = 10000\n",
    "# this is the final training loop\n",
    "for epoch in range(epochs):\n",
    "    # we simply make predictions and calculate loss\n",
    "    preds = model(train_features)\n",
    "    loss = loss_fn(preds, train_labels)\n",
    "\n",
    "    # then we will find gradients and optimize the model to reduce loss\n",
    "    loss.backward()\n",
    "    opt.step()\n",
    "    opt.zero_grad()\n",
    "\n",
    "    # here we are calculating the accuracy of our model\n",
    "    # without tracking the gradients\n",
    "    with torch.no_grad():\n",
    "        # Doing further action only on the 1/tenths of the total epochs to save time\n",
    "        if (epoch+1)%(epochs//10) == 0:\n",
    "            right = 0\n",
    "\n",
    "            # here we will chech if at the index of the max pred is there a 1 present in the labels\n",
    "            preds = model(test_features)\n",
    "            \n",
    "            for i in range(len(preds)):\n",
    "                j = torch.where(preds[i]==preds[i].max())\n",
    "                try:\n",
    "                    if test_labels[i][j] == 1:\n",
    "                        right += 1\n",
    "                except:\n",
    "                    right+=1\n",
    "\n",
    "            # calculating and printing accuracy\n",
    "            print(f\"Epoch {epoch+1}, Accuracy : {round(right * 100/ len(preds), 2)}%\")"
   ]
  },
  {
   "cell_type": "code",
   "execution_count": null,
   "metadata": {},
   "outputs": [],
   "source": [
    "# Saving the weights and biases of our model so we can load em up again whenever\n",
    "# we want to make a prediction.\n",
    "# torch.save(model.state_dict(),\"creditcard_weights.pth\")"
   ]
  },
  {
   "cell_type": "code",
   "execution_count": null,
   "metadata": {},
   "outputs": [
    {
     "name": "stdout",
     "output_type": "stream",
     "text": [
      "Accuracy : 82.33%\n"
     ]
    }
   ],
   "source": [
    "model.load_state_dict(torch.load(\"creditcard_weights.pth\"))\n",
    "\n",
    "right = 0\n",
    "preds = model(test_features)\n",
    "for i in range(len(preds)):\n",
    "    j = torch.where(preds[i]==preds[i].max())\n",
    "    try:\n",
    "        if test_labels[i][j] == 1:\n",
    "            right += 1\n",
    "    except:\n",
    "        right+=1\n",
    "\n",
    "# calculating and printing accuracy\n",
    "print(f\"Accuracy : {round(right * 100/ len(preds), 2)}%\")"
   ]
  },
  {
   "cell_type": "markdown",
   "metadata": {},
   "source": [
    "Result"
   ]
  },
  {
   "cell_type": "code",
   "execution_count": 14,
   "metadata": {},
   "outputs": [
    {
     "name": "stdout",
     "output_type": "stream",
     "text": [
      "tensor([1.2277e-05, 5.7617e-01, 6.2264e-09, 9.0046e-07, 4.2381e-01],\n",
      "       grad_fn=<SoftmaxBackward0>) (tensor([1]),)\n",
      "Pred : $80K - $120K, Actual : $80K - $120K\n"
     ]
    }
   ],
   "source": [
    "index = 32\n",
    "pred = model(features[index])\n",
    "pred_i = torch.where(pred == pred.max())\n",
    "real_i = torch.where(labels[index] == 1)\n",
    "\n",
    "print(pred, pred_i)\n",
    "\n",
    "print(f\"Pred : {classes[pred_i]}, Actual : {classes[real_i]}\")\n",
    "\n",
    "\n",
    "# model.load_state_dict(torch.load(\"\"))"
   ]
  }
 ],
 "metadata": {
  "kernelspec": {
   "display_name": "Python 3.8.8 ('base')",
   "language": "python",
   "name": "python3"
  },
  "language_info": {
   "codemirror_mode": {
    "name": "ipython",
    "version": 3
   },
   "file_extension": ".py",
   "mimetype": "text/x-python",
   "name": "python",
   "nbconvert_exporter": "python",
   "pygments_lexer": "ipython3",
   "version": "3.8.8"
  },
  "orig_nbformat": 4,
  "vscode": {
   "interpreter": {
    "hash": "6dcc23356357f8276d44a785f9d0a2aa02edb775f35b369ed56d20e41d916bba"
   }
  }
 },
 "nbformat": 4,
 "nbformat_minor": 2
}

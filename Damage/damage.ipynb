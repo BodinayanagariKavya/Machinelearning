{
 "cells": [
  {
   "cell_type": "markdown",
   "metadata": {},
   "source": [
    "DAMAGE MULTI CLASSIFICATION"
   ]
  },
  {
   "cell_type": "code",
   "execution_count": 1,
   "metadata": {},
   "outputs": [],
   "source": [
    "import numpy as np\n",
    "import pandas as pd\n",
    "from sklearn.preprocessing import StandardScaler as ss\n",
    "from sklearn.utils import shuffle\n",
    "import torch"
   ]
  },
  {
   "cell_type": "code",
   "execution_count": 2,
   "metadata": {},
   "outputs": [
    {
     "name": "stderr",
     "output_type": "stream",
     "text": [
      "c:\\Users\\hp\\Documents\\New folder\\lib\\site-packages\\IPython\\core\\interactiveshell.py:3165: DtypeWarning: Columns (5,17,29,34,35,36,37,38,39,40,41,42,43,47,50) have mixed types.Specify dtype option on import or set low_memory=False.\n",
      "  has_raised = await self.run_ast_nodes(code_ast.body, cell_name,\n"
     ]
    }
   ],
   "source": [
    "data = pd.read_csv(\"C:/Users/hp/Desktop/pandas/csv_building_damage_assessment.csv\",na_values = [\"None\",\" \",\"nan\",\"\\n\"])\n",
    "data = data.drop([\"building_id\",\"district_id\",\"vdcmun_id\",\"ward_id\"],axis = 1)\n",
    "for column in data.columns:\n",
    "    if data[column].count() <250000:\n",
    "        data = data.drop(column,axis = 1)\n",
    "        \n",
    "data = data.dropna()"
   ]
  },
  {
   "cell_type": "markdown",
   "metadata": {},
   "source": [
    "Assigning features and labels"
   ]
  },
  {
   "cell_type": "code",
   "execution_count": 3,
   "metadata": {},
   "outputs": [],
   "source": [
    "features = pd.get_dummies(data) \n",
    "labels = data[\"damage_grade\"]\n",
    "classes = labels.unique()\n",
    "labels = pd.get_dummies(labels)"
   ]
  },
  {
   "cell_type": "code",
   "execution_count": 4,
   "metadata": {},
   "outputs": [
    {
     "name": "stdout",
     "output_type": "stream",
     "text": [
      "torch.Size([36017, 35]) torch.Size([36017, 5])\n"
     ]
    }
   ],
   "source": [
    "features = np.array(features)\n",
    "labels = np.array(labels)\n",
    "features = ss().fit_transform(features)\n",
    "features = torch.tensor(features, dtype=torch.float32)\n",
    "labels = torch.tensor(labels, dtype=torch.float32)\n",
    "print(features.shape,labels.shape)"
   ]
  },
  {
   "cell_type": "code",
   "execution_count": 5,
   "metadata": {},
   "outputs": [],
   "source": [
    "train_features = features[:30000]\n",
    "train_labels = labels[:30000]\n",
    "test_features = features[30000:]\n",
    "test_labels = labels[30000:]"
   ]
  },
  {
   "cell_type": "markdown",
   "metadata": {},
   "source": [
    "Using DataLoader and TensorDataset"
   ]
  },
  {
   "cell_type": "code",
   "execution_count": 7,
   "metadata": {},
   "outputs": [],
   "source": [
    "from torch.utils.data import DataLoader, TensorDataset\n",
    "\n",
    "data = TensorDataset(train_features,train_labels)\n",
    "BATCH_SIZE = 1000\n",
    "dataloader = DataLoader(data,batch_size=BATCH_SIZE, shuffle=True)"
   ]
  },
  {
   "cell_type": "markdown",
   "metadata": {},
   "source": [
    "Using LeahyRelu and Softmax"
   ]
  },
  {
   "cell_type": "code",
   "execution_count": 8,
   "metadata": {},
   "outputs": [],
   "source": [
    "model = torch.nn.Sequential(\n",
    "    torch.nn.Linear(35,60),\n",
    "    torch.nn.LeakyReLU(),\n",
    "    torch.nn.Linear(60,70),\n",
    "    torch.nn.ReLU(),\n",
    "    torch.nn.Linear(70,30),\n",
    "    torch.nn.ReLU(),\n",
    "    torch.nn.Linear(30,5), \n",
    "    torch.nn.Softmax(dim=-1) \n",
    ")"
   ]
  },
  {
   "cell_type": "code",
   "execution_count": 9,
   "metadata": {},
   "outputs": [],
   "source": [
    "loss_fn = torch.nn.BCELoss()\n",
    "opt = torch.optim.Adam(model.parameters(), lr=0.001)\n",
    "history = []"
   ]
  },
  {
   "cell_type": "code",
   "execution_count": 10,
   "metadata": {},
   "outputs": [],
   "source": [
    "from torch import no_grad\n",
    "epochs = 0\n",
    "for epoch in range(epochs):\n",
    "    for features,labels in dataloader:\n",
    "        preds = model(train_features)\n",
    "        loss = loss_fn(preds,train_labels)\n",
    "\n",
    "        loss.backward()\n",
    "        opt.step()\n",
    "        opt.zero_grad()\n",
    "\n",
    "    with torch.no_grad():\n",
    "        if (epoch+1)%(epochs//10) == 0:\n",
    "            right = 0\n",
    "            preds = model(test_features)\n",
    "            for i in range(len(preds)):\n",
    "                for j in range(len(preds[i])):\n",
    "                        \n",
    "                        if preds[i][j]==max(preds[i]):\n",
    "                            if(test_labels[i][j]==1):\n",
    "                                right+=1\n",
    "                                print(test_labels[i],preds[i])\n",
    "                \n",
    "            Acc = round((right*100/len(test_labels)),5)\n",
    "            history.append(Acc)\n",
    "            print(\"Accuracy :\",Acc)\n",
    "        "
   ]
  },
  {
   "cell_type": "markdown",
   "metadata": {},
   "source": [
    "Saving Weight & Bias"
   ]
  },
  {
   "cell_type": "code",
   "execution_count": 11,
   "metadata": {},
   "outputs": [
    {
     "data": {
      "text/plain": [
       "<All keys matched successfully>"
      ]
     },
     "execution_count": 11,
     "metadata": {},
     "output_type": "execute_result"
    }
   ],
   "source": [
    "model.load_state_dict(torch.load(\"damage.pth\"))"
   ]
  },
  {
   "cell_type": "markdown",
   "metadata": {},
   "source": [
    "Result"
   ]
  },
  {
   "cell_type": "code",
   "execution_count": 12,
   "metadata": {},
   "outputs": [
    {
     "name": "stdout",
     "output_type": "stream",
     "text": [
      "Pred : Grade 1, Actual : Grade 1\n"
     ]
    }
   ],
   "source": [
    "index = 999\n",
    "pred = model(test_features[index])\n",
    "pred_i = torch.where(pred == pred.max())\n",
    "real_i = torch.where(test_labels[index] == 1)\n",
    "\n",
    "print(f\"Pred : {classes[pred_i]}, Actual : {classes[real_i]}\")"
   ]
  }
 ],
 "metadata": {
  "kernelspec": {
   "display_name": "Python 3.8.8 ('base')",
   "language": "python",
   "name": "python3"
  },
  "language_info": {
   "codemirror_mode": {
    "name": "ipython",
    "version": 3
   },
   "file_extension": ".py",
   "mimetype": "text/x-python",
   "name": "python",
   "nbconvert_exporter": "python",
   "pygments_lexer": "ipython3",
   "version": "3.8.8"
  },
  "orig_nbformat": 4,
  "vscode": {
   "interpreter": {
    "hash": "6dcc23356357f8276d44a785f9d0a2aa02edb775f35b369ed56d20e41d916bba"
   }
  }
 },
 "nbformat": 4,
 "nbformat_minor": 2
}

{
 "cells": [
  {
   "cell_type": "markdown",
   "metadata": {},
   "source": [
    "CAR PRICE CLASSIFICATION"
   ]
  },
  {
   "cell_type": "code",
   "execution_count": 6,
   "metadata": {},
   "outputs": [],
   "source": [
    "import numpy as np\n",
    "import pandas as pd\n",
    "from sklearn.preprocessing import StandardScaler \n",
    "import torch"
   ]
  },
  {
   "cell_type": "markdown",
   "metadata": {},
   "source": [
    "Assigning Features and Labels"
   ]
  },
  {
   "cell_type": "code",
   "execution_count": 7,
   "metadata": {},
   "outputs": [],
   "source": [
    "dataset = pd.read_csv(\"C:/Users/hp/Desktop/pandas/CarPrice.csv\")\n",
    "dataset = dataset.drop([\"car_ID\",\"CarName\"], axis=1).dropna()\n",
    "dataset[\"price\"] = dataset[\"price\"]/10000\n",
    "label = dataset[\"price\"]\n",
    "feature = dataset.drop(\"price\",axis=1)\n",
    "feature = pd.get_dummies(feature)"
   ]
  },
  {
   "cell_type": "code",
   "execution_count": 8,
   "metadata": {},
   "outputs": [],
   "source": [
    "features = np.array(feature)\n",
    "labels = np.array(label).reshape(-1,1)\n",
    "features = StandardScaler().fit_transform(features)\n",
    "features = torch.tensor(features, dtype = torch.float32)\n",
    "labels = torch.tensor(labels,dtype = torch.float32)"
   ]
  },
  {
   "cell_type": "code",
   "execution_count": 9,
   "metadata": {},
   "outputs": [],
   "source": [
    "model = torch.nn.Linear(52,1)\n",
    "preds=model(features)"
   ]
  },
  {
   "cell_type": "markdown",
   "metadata": {},
   "source": [
    "Predicting the Weight and Bias"
   ]
  },
  {
   "cell_type": "code",
   "execution_count": 10,
   "metadata": {},
   "outputs": [
    {
     "name": "stdout",
     "output_type": "stream",
     "text": [
      "tensor(3.2981, grad_fn=<MseLossBackward0>)\n",
      "tensor([[ 0.2058, -1.4076, -1.7946, -1.8881, -0.3867, -2.1350, -2.1353, -1.6654,\n",
      "          0.1618,  0.1166, -2.0390,  0.2956,  1.9672,  2.0101, -0.0129,  0.0129,\n",
      "          0.4947, -0.4947, -0.1617,  0.1617, -0.7083, -0.5721,  0.7932, -0.2660,\n",
      "         -0.0405, -0.3599,  1.6574, -1.5379,  0.7887, -0.7887, -0.3804, -0.3687,\n",
      "         -0.0716,  1.0673, -0.3822, -1.0359,  0.0404, -1.3208, -0.6440,  1.4889,\n",
      "         -0.8730,  0.5133, -0.4732,  0.0404,  0.6090,  1.2392,  0.0778, -0.0129,\n",
      "          0.0174, -1.4769,  0.0210,  0.1239]])\n",
      "tensor([-2.5980])\n"
     ]
    }
   ],
   "source": [
    "from torch.nn.functional import mse_loss\n",
    "\n",
    "loss  = mse_loss(preds, labels)\n",
    "print(loss)\n",
    "\n",
    "loss.backward()\n",
    "\n",
    "print(model.weight.grad)\n",
    "print(model.bias.grad)"
   ]
  },
  {
   "cell_type": "code",
   "execution_count": 11,
   "metadata": {},
   "outputs": [
    {
     "name": "stdout",
     "output_type": "stream",
     "text": [
      "tensor(3.2379, grad_fn=<MseLossBackward0>)\n"
     ]
    }
   ],
   "source": [
    "optimizer = torch.optim.SGD(model.parameters(), lr=1e-3)\n",
    "\n",
    "optimizer.step()\n",
    "optimizer.zero_grad()\n",
    "\n",
    "preds = model(features)\n",
    "loss = mse_loss(preds, labels)\n",
    "print(loss)"
   ]
  },
  {
   "cell_type": "markdown",
   "metadata": {},
   "source": [
    "Training Loop"
   ]
  },
  {
   "cell_type": "code",
   "execution_count": 12,
   "metadata": {},
   "outputs": [
    {
     "name": "stdout",
     "output_type": "stream",
     "text": [
      "tensor(0.0936, grad_fn=<MseLossBackward0>)\n",
      "tensor(0.0526, grad_fn=<MseLossBackward0>)\n",
      "tensor(0.0482, grad_fn=<MseLossBackward0>)\n",
      "tensor(0.0459, grad_fn=<MseLossBackward0>)\n",
      "tensor(0.0444, grad_fn=<MseLossBackward0>)\n",
      "tensor(0.0433, grad_fn=<MseLossBackward0>)\n",
      "tensor(0.0425, grad_fn=<MseLossBackward0>)\n",
      "tensor(0.0418, grad_fn=<MseLossBackward0>)\n",
      "tensor(0.0413, grad_fn=<MseLossBackward0>)\n",
      "tensor(0.0410, grad_fn=<MseLossBackward0>)\n",
      "tensor(0.0407, grad_fn=<MseLossBackward0>)\n",
      "tensor(0.0404, grad_fn=<MseLossBackward0>)\n",
      "tensor(0.0402, grad_fn=<MseLossBackward0>)\n",
      "tensor(0.0400, grad_fn=<MseLossBackward0>)\n",
      "tensor(0.0399, grad_fn=<MseLossBackward0>)\n"
     ]
    }
   ],
   "source": [
    "epochs = 15000\n",
    "for epoch in range(epochs):\n",
    "    preds = model(features)\n",
    "    loss = mse_loss(preds, labels)\n",
    "    \n",
    "    if (epoch+1)%1000 == 0:\n",
    "        print(loss)\n",
    "\n",
    "    loss.backward()\n",
    "    \n",
    "    optimizer.step()\n",
    "    optimizer.zero_grad()"
   ]
  },
  {
   "cell_type": "markdown",
   "metadata": {},
   "source": [
    "Result"
   ]
  },
  {
   "cell_type": "code",
   "execution_count": 13,
   "metadata": {},
   "outputs": [
    {
     "name": "stdout",
     "output_type": "stream",
     "text": [
      "tensor([10404.7832], grad_fn=<MulBackward0>) tensor([9279.])\n"
     ]
    }
   ],
   "source": [
    "x = 87\n",
    "preds = model(features[x])\n",
    "print(preds*10000,labels[x]*10000)"
   ]
  }
 ],
 "metadata": {
  "kernelspec": {
   "display_name": "Python 3.8.8 ('base')",
   "language": "python",
   "name": "python3"
  },
  "language_info": {
   "codemirror_mode": {
    "name": "ipython",
    "version": 3
   },
   "file_extension": ".py",
   "mimetype": "text/x-python",
   "name": "python",
   "nbconvert_exporter": "python",
   "pygments_lexer": "ipython3",
   "version": "3.8.8"
  },
  "orig_nbformat": 4,
  "vscode": {
   "interpreter": {
    "hash": "6dcc23356357f8276d44a785f9d0a2aa02edb775f35b369ed56d20e41d916bba"
   }
  }
 },
 "nbformat": 4,
 "nbformat_minor": 2
}

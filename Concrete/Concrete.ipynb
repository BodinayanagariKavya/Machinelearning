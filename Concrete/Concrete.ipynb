{
 "cells": [
  {
   "cell_type": "markdown",
   "metadata": {},
   "source": [
    "CONCRETE CLASSIFICATION"
   ]
  },
  {
   "cell_type": "code",
   "execution_count": 1,
   "metadata": {},
   "outputs": [],
   "source": [
    "import torch\n",
    "import pandas as pd\n",
    "import numpy as np\n",
    "from sklearn.preprocessing import StandardScaler"
   ]
  },
  {
   "cell_type": "markdown",
   "metadata": {},
   "source": [
    "Assigning Features and Labels"
   ]
  },
  {
   "cell_type": "code",
   "execution_count": 2,
   "metadata": {},
   "outputs": [
    {
     "name": "stdout",
     "output_type": "stream",
     "text": [
      "torch.Size([1000, 8]) torch.Size([1000, 1])\n"
     ]
    }
   ],
   "source": [
    "features = pd.read_csv(\"C:/Users/hp/Desktop/pandas/Concrete.csv\")[:1000]\n",
    "features.head()\n",
    "\n",
    "labels = features.pop(\"csMPa\")\n",
    "labels.head()\n",
    "\n",
    "features = np.array(features)\n",
    "features = StandardScaler().fit_transform(features)\n",
    "\n",
    "features = torch.tensor(features, dtype=torch.float32)\n",
    "labels = torch.tensor(np.array(labels).reshape(-1,1), dtype=torch.float32)\n",
    "\n",
    "print(features.shape, labels.shape)\n",
    "\n"
   ]
  },
  {
   "cell_type": "code",
   "execution_count": 3,
   "metadata": {},
   "outputs": [
    {
     "name": "stdout",
     "output_type": "stream",
     "text": [
      "torch.Size([1000, 1])\n",
      "tensor([[-0.1112],\n",
      "        [-0.1096],\n",
      "        [-0.1174],\n",
      "        [-0.1067],\n",
      "        [-0.0953]], grad_fn=<SliceBackward0>)\n"
     ]
    }
   ],
   "source": [
    "model = torch.nn.Sequential(\n",
    "    torch.nn.Linear(8,16),\n",
    "    torch.nn.LeakyReLU(), # activation functions\n",
    "    torch.nn.Linear(16,8),\n",
    "    torch.nn.ReLU(),\n",
    "    torch.nn.Linear(8,8),\n",
    "    torch.nn.ReLU(),\n",
    "    torch.nn.Linear(8,1)\n",
    ")\n",
    "\n",
    "preds = model(features)\n",
    "print(preds.shape)\n",
    "\n",
    "print(preds[:5])"
   ]
  },
  {
   "cell_type": "markdown",
   "metadata": {},
   "source": [
    "Checking on the Initial loss"
   ]
  },
  {
   "cell_type": "code",
   "execution_count": 4,
   "metadata": {},
   "outputs": [
    {
     "data": {
      "text/plain": [
       "tensor(1564.6664, grad_fn=<MseLossBackward0>)"
      ]
     },
     "execution_count": 4,
     "metadata": {},
     "output_type": "execute_result"
    }
   ],
   "source": [
    "from torch.nn.functional import mse_loss\n",
    "\n",
    "loss = mse_loss(preds, labels)\n",
    "loss"
   ]
  },
  {
   "cell_type": "code",
   "execution_count": 5,
   "metadata": {},
   "outputs": [],
   "source": [
    "optimizer = torch.optim.SGD(model.parameters(), lr=0.001)"
   ]
  },
  {
   "cell_type": "markdown",
   "metadata": {},
   "source": [
    "Using Optimizer"
   ]
  },
  {
   "cell_type": "code",
   "execution_count": 7,
   "metadata": {},
   "outputs": [
    {
     "name": "stdout",
     "output_type": "stream",
     "text": [
      "tensor(10.6687, grad_fn=<MseLossBackward0>)\n",
      "tensor(10.7201, grad_fn=<MseLossBackward0>)\n",
      "tensor(10.3163, grad_fn=<MseLossBackward0>)\n",
      "tensor(10.0704, grad_fn=<MseLossBackward0>)\n",
      "tensor(10.1715, grad_fn=<MseLossBackward0>)\n",
      "tensor(10.2670, grad_fn=<MseLossBackward0>)\n",
      "tensor(9.0241, grad_fn=<MseLossBackward0>)\n",
      "tensor(8.6677, grad_fn=<MseLossBackward0>)\n",
      "tensor(9.2913, grad_fn=<MseLossBackward0>)\n",
      "tensor(8.9189, grad_fn=<MseLossBackward0>)\n"
     ]
    }
   ],
   "source": [
    "epochs = 40000\n",
    "for epoch in range(epochs):\n",
    "    preds = model(features)\n",
    "    loss = mse_loss(preds, labels)\n",
    "    \n",
    "    if (epoch+1)%(epochs//10) == 0:\n",
    "        print(loss)\n",
    "\n",
    "    loss.backward()\n",
    "    \n",
    "    optimizer.step()\n",
    "    optimizer.zero_grad()"
   ]
  },
  {
   "cell_type": "markdown",
   "metadata": {},
   "source": [
    "Result"
   ]
  },
  {
   "cell_type": "code",
   "execution_count": 8,
   "metadata": {},
   "outputs": [
    {
     "name": "stdout",
     "output_type": "stream",
     "text": [
      "tensor([37.4428], grad_fn=<AddBackward0>) tensor([36.4500])\n"
     ]
    }
   ],
   "source": [
    "i = 7\n",
    "preds = model(features[i])\n",
    "print(preds, labels[i])"
   ]
  }
 ],
 "metadata": {
  "kernelspec": {
   "display_name": "Python 3.8.8 ('base')",
   "language": "python",
   "name": "python3"
  },
  "language_info": {
   "codemirror_mode": {
    "name": "ipython",
    "version": 3
   },
   "file_extension": ".py",
   "mimetype": "text/x-python",
   "name": "python",
   "nbconvert_exporter": "python",
   "pygments_lexer": "ipython3",
   "version": "3.8.8"
  },
  "orig_nbformat": 4,
  "vscode": {
   "interpreter": {
    "hash": "6dcc23356357f8276d44a785f9d0a2aa02edb775f35b369ed56d20e41d916bba"
   }
  }
 },
 "nbformat": 4,
 "nbformat_minor": 2
}
